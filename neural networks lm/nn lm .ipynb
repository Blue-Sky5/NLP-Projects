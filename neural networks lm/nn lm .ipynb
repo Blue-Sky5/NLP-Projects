{
 "cells": [
  {
   "cell_type": "markdown",
   "id": "b00e5a9f-077b-44c9-ab24-34bfdfaa486f",
   "metadata": {},
   "source": [
    "Imports "
   ]
  },
  {
   "cell_type": "code",
   "execution_count": 1,
   "id": "485b9774-d8dd-4084-a274-d42228354bf5",
   "metadata": {},
   "outputs": [],
   "source": [
    "import numpy as np\n",
    "from numpy import array\n",
    "import string"
   ]
  },
  {
   "cell_type": "code",
   "execution_count": 2,
   "id": "8e832bf2-03ec-4865-bf69-0c0daa4cf21e",
   "metadata": {},
   "outputs": [],
   "source": [
    "# this function is defined to read the corpus\n",
    "def sample_corpus(path):\n",
    "\n",
    "  count = 0\n",
    "  res = []\n",
    "  corpus = ''\n",
    "\n",
    "  with open(path, 'r',encoding=\"utf8\") as ptr:\n",
    "    for line in ptr:\n",
    "      res.append(line)\n",
    "\n",
    "\n",
    "  for i in range(0, len(res)):\n",
    "    \n",
    "    if count>500:\n",
    "      break\n",
    "\n",
    "    if res[i].startswith(\"موضوع\"):\n",
    "      count += 1\n",
    "      continue\n",
    "\n",
    "    corpus = corpus+ ' ' + res[i].strip()\n",
    "\n",
    "  return corpus\n"
   ]
  },
  {
   "cell_type": "code",
   "execution_count": 3,
   "id": "6500d2cf-c156-4a25-8a1a-891caa2a47cb",
   "metadata": {},
   "outputs": [],
   "source": [
    "# Returns an array of words that occurred less than N time in given corpus\n",
    "def get_rare_words(corpus, N):\n",
    "  \n",
    "  tokens = corpus.split()\n",
    "  \n",
    "  dict = {}\n",
    "  \n",
    "  for word in tokens:\n",
    "    \n",
    "    if word in dict:\n",
    "      dict[word]+=1\n",
    "    \n",
    "    else:\n",
    "      dict[word]=1\n",
    "\n",
    "  rare_words = []\n",
    "\n",
    "  for key, value in dict.items():\n",
    "\n",
    "    if value <= N:\n",
    "      rare_words.append(key)\n",
    "\n",
    "  print('count of rare words: ')\n",
    "  print(len(rare_words))\n",
    "\n",
    "  return rare_words"
   ]
  },
  {
   "cell_type": "code",
   "execution_count": 4,
   "id": "7bb36807-7147-4145-9842-99594a401c4d",
   "metadata": {},
   "outputs": [],
   "source": [
    "# remove punctuation marks, non-alphabetic tokens, and lowercase the tokens\n",
    "def clean_sentence(sentence):\n",
    "\n",
    "  tokens = sentence.split()\n",
    "\n",
    "  translation_table = str.maketrans('', '', \"\\\"#$%&'()*+,-/:;<=>?@[\\]^_`{|}~،؟!❊#$٪^&*)(ـ+=-؛:{}\")\n",
    "\n",
    "  tokens = [w.translate(translation_table) for w in tokens]\n",
    "\n",
    "  tokens = [word for word in tokens if word.isalpha()]\n",
    "\n",
    "  tokens = [word for word in tokens if word not in rare_words]\n",
    "  \n",
    "  return tokens\n"
   ]
  },
  {
   "cell_type": "code",
   "execution_count": 5,
   "id": "012bee5e-6e4b-4179-aa55-3567ebe0fa41",
   "metadata": {},
   "outputs": [],
   "source": [
    "\n",
    "import pickle\n",
    "\n",
    "# Read dataset, extract rare-words, split the corpus into sentences, clean each sentence and store the\n",
    "# cleaned sentences with pickle\n",
    "\n",
    "USE_SAVED_OBJ = True\n",
    "\n",
    "# path to dataset\n",
    "data_path = \"dataset.txt\"\n",
    "\n",
    "if (not USE_SAVED_OBJ):\n",
    "  # read the cotpus as a string\n",
    "  corpus_raw = sample_corpus(data_path)\n",
    "  \n",
    "  # extract the rarewords\n",
    "  rare_words = get_rare_words(corpus_raw, 1)\n",
    "  \n",
    "  # split the input corpus into sentences separated by '.'\n",
    "  sentences = corpus_raw.split('.')\n",
    "\n",
    "  tokenized_sentences = []\n",
    "  \n",
    "  # clean each sentence and split it into tokens\n",
    "  for sent in sentences:\n",
    "    tokens = clean_sentence(sent)\n",
    "    tokenized_sentences.append(tokens)\n",
    "  \n",
    "  # save the cleaned sentences in pickle file\n",
    "  file = open(\"corpus.obj\",\"wb\")\n",
    "  pickle.dump(tokenized_sentences,file)\n",
    "  file.close()\n",
    "\n",
    "else:\n",
    "  \n",
    "  # load the cleaned sentences by pickle from file\n",
    "  file = open(\"corpus.obj\",\"rb\")\n",
    "  tokenized_sentences = pickle.load(file)\n",
    "  file.close()\n",
    "\n"
   ]
  },
  {
   "cell_type": "code",
   "execution_count": 6,
   "id": "e727b277-5531-40c8-b452-ec4a83590546",
   "metadata": {},
   "outputs": [
    {
     "data": {
      "text/plain": [
       "302"
      ]
     },
     "execution_count": 6,
     "metadata": {},
     "output_type": "execute_result"
    }
   ],
   "source": [
    "len(tokenized_sentences)"
   ]
  },
  {
   "cell_type": "code",
   "execution_count": 7,
   "id": "a17de1c5-3cdf-4aac-8cf7-5170e2063b40",
   "metadata": {},
   "outputs": [
    {
     "name": "stdout",
     "output_type": "stream",
     "text": [
      "Total Sequences: 2890\n"
     ]
    }
   ],
   "source": [
    "# Extract sequences of N-grams from corpus\n",
    "\n",
    "# count of given words to predict the next word\n",
    "window_size = 3\n",
    "\n",
    "# length of sequence or n-gram\n",
    "seq_length = window_size + 1\n",
    "\n",
    "# store the n-grams in sequences list\n",
    "sequences = list()\n",
    "\n",
    "# extract a sentence of each 'seq_length' consecutive words from given sentences.\n",
    "for tokens in tokenized_sentences:\n",
    "  for i in range(seq_length, len(tokens)):\n",
    "    seq = tokens[i-seq_length:i]\n",
    "    line = ' '.join(seq)\n",
    "    sequences.append(line)\n",
    "\n",
    "print('Total Sequences: %d' % len(sequences))"
   ]
  },
  {
   "cell_type": "code",
   "execution_count": 8,
   "id": "f84901dc-b45c-46b3-924f-3b4bd60b7373",
   "metadata": {},
   "outputs": [
    {
     "data": {
      "text/plain": [
       "'که از صورت بالا'"
      ]
     },
     "execution_count": 8,
     "metadata": {},
     "output_type": "execute_result"
    }
   ],
   "source": [
    "sequences[1]"
   ]
  },
  {
   "cell_type": "code",
   "execution_count": 9,
   "id": "f8b5a1f8-83e5-482e-b0b2-cd82d9f3a622",
   "metadata": {},
   "outputs": [],
   "source": [
    "# model imports \n",
    "from tensorflow.keras.preprocessing.text import Tokenizer\n",
    "from tensorflow.keras.utils import to_categorical\n",
    "from sklearn.model_selection import train_test_split\n",
    "from tensorflow.keras.models import Sequential\n",
    "from tensorflow.keras.layers import Dense\n",
    "from tensorflow.keras.layers import Embedding\n",
    "from keras.layers import Flatten\n",
    "import keras\n",
    "from matplotlib import pyplot as plt\n",
    "from IPython.display import clear_output\n",
    "from tensorflow.keras.callbacks import ModelCheckpoint"
   ]
  },
  {
   "cell_type": "code",
   "execution_count": 10,
   "id": "6a54cbcd-d14c-4386-8b7f-6f1242be420d",
   "metadata": {},
   "outputs": [],
   "source": [
    "\n",
    "# create the tokenizer and fit it on the input text\n",
    "tokenizer = Tokenizer()\n",
    "tokenizer.fit_on_texts(sequences)\n",
    "\n",
    "# tokenize the sequences into encoded numbers\n",
    "sequences = tokenizer.texts_to_sequences(sequences)\n"
   ]
  },
  {
   "cell_type": "code",
   "execution_count": 11,
   "id": "548c5862-c45e-4af3-8728-7f2d39aee4a2",
   "metadata": {},
   "outputs": [
    {
     "data": {
      "text/plain": [
       "[5, 4, 287, 1]"
      ]
     },
     "execution_count": 11,
     "metadata": {},
     "output_type": "execute_result"
    }
   ],
   "source": [
    "sequences[5]"
   ]
  },
  {
   "cell_type": "code",
   "execution_count": 12,
   "id": "4560e179-3278-43dc-b394-202043d3855b",
   "metadata": {},
   "outputs": [],
   "source": [
    "# vocabulary size\n",
    "vocab_size = len(tokenizer.word_index) + 1"
   ]
  },
  {
   "cell_type": "code",
   "execution_count": 13,
   "id": "5913a08a-8a15-4f91-8707-d52078d51ae5",
   "metadata": {},
   "outputs": [],
   "source": [
    "sequences = array(sequences)\n",
    "\n",
    "# split the sequence of N-grams into input (x) and output (y)\n",
    "X, y = sequences[:,:-1], sequences[:,-1]\n"
   ]
  },
  {
   "cell_type": "code",
   "execution_count": 14,
   "id": "587a62a1-8cca-453d-a2e9-ad206a0d94cd",
   "metadata": {},
   "outputs": [],
   "source": [
    "# convert the output into categorical format required for training the model\n",
    "y = to_categorical(y, num_classes=vocab_size)\n"
   ]
  },
  {
   "cell_type": "code",
   "execution_count": 15,
   "id": "0df77926-7577-4d6b-a09d-df877a6ee0c8",
   "metadata": {},
   "outputs": [
    {
     "data": {
      "text/plain": [
       "(2890, 3)"
      ]
     },
     "execution_count": 15,
     "metadata": {},
     "output_type": "execute_result"
    }
   ],
   "source": [
    "np.shape(y[0])\n",
    "y[0]\n",
    "np.shape(X)"
   ]
  },
  {
   "cell_type": "code",
   "execution_count": 16,
   "id": "56eb21d3-5d8a-4705-b084-804da6477f4c",
   "metadata": {},
   "outputs": [],
   "source": [
    "# split data into train, test, and validation sets\n",
    "\n",
    "\n",
    "X_train, X_test, y_train, y_test = train_test_split(X, y, test_size=0.40, random_state=42)\n",
    "\n",
    "length = int(len(X_test)/2)\n",
    "\n",
    "y_validation = y_test[0:length]\n",
    "X_validation = X_test[0:length]\n",
    "\n",
    "y_test = y_test[length:2*length]\n",
    "X_test = X_test[length:2*length]\n"
   ]
  },
  {
   "cell_type": "code",
   "execution_count": 17,
   "id": "086ddd55-5712-4d40-b5c1-7fe3957cdf5d",
   "metadata": {},
   "outputs": [],
   "source": [
    "# The PlotLosses function, plots the validation and training loss function during the\n",
    "#  training to give an insight of training the model\n",
    "\n",
    "\n",
    "class PlotLosses(keras.callbacks.Callback):\n",
    "  \n",
    "    def on_train_begin(self, logs={}):\n",
    "        self.i = 0\n",
    "        self.x = []\n",
    "        self.losses = []\n",
    "        self.val_losses = []\n",
    "        \n",
    "        self.fig = plt.figure()\n",
    "        \n",
    "        self.logs = []\n",
    "\n",
    "    def on_epoch_end(self, epoch, logs={}):\n",
    "        \n",
    "        self.logs.append(logs)\n",
    "        self.x.append(self.i)\n",
    "        self.losses.append(logs.get('loss'))\n",
    "        self.val_losses.append(logs.get('val_loss'))\n",
    "        self.i += 1\n",
    "        \n",
    "        clear_output(wait=True)\n",
    "        plt.plot(self.x, self.losses, label=\"loss\")\n",
    "        plt.plot(self.x, self.val_losses, label=\"val_loss\")\n",
    "        plt.legend()\n",
    "        plt.show();\n",
    "        \n",
    "plot_losses = PlotLosses()"
   ]
  },
  {
   "cell_type": "code",
   "execution_count": 19,
   "id": "2546a6b1-4493-404d-b274-10ca1a1c845a",
   "metadata": {},
   "outputs": [
    {
     "data": {
      "text/html": [
       "<pre style=\"white-space:pre;overflow-x:auto;line-height:normal;font-family:Menlo,'DejaVu Sans Mono',consolas,'Courier New',monospace\"><span style=\"font-weight: bold\">Model: \"sequential_1\"</span>\n",
       "</pre>\n"
      ],
      "text/plain": [
       "\u001b[1mModel: \"sequential_1\"\u001b[0m\n"
      ]
     },
     "metadata": {},
     "output_type": "display_data"
    },
    {
     "data": {
      "text/html": [
       "<pre style=\"white-space:pre;overflow-x:auto;line-height:normal;font-family:Menlo,'DejaVu Sans Mono',consolas,'Courier New',monospace\">┏━━━━━━━━━━━━━━━━━━━━━━━━━━━━━━━━━━━━━━┳━━━━━━━━━━━━━━━━━━━━━━━━━━━━━┳━━━━━━━━━━━━━━━━━┓\n",
       "┃<span style=\"font-weight: bold\"> Layer (type)                         </span>┃<span style=\"font-weight: bold\"> Output Shape                </span>┃<span style=\"font-weight: bold\">         Param # </span>┃\n",
       "┡━━━━━━━━━━━━━━━━━━━━━━━━━━━━━━━━━━━━━━╇━━━━━━━━━━━━━━━━━━━━━━━━━━━━━╇━━━━━━━━━━━━━━━━━┩\n",
       "│ Embedding-layer (<span style=\"color: #0087ff; text-decoration-color: #0087ff\">Embedding</span>)          │ ?                           │     <span style=\"color: #00af00; text-decoration-color: #00af00\">0</span> (unbuilt) │\n",
       "├──────────────────────────────────────┼─────────────────────────────┼─────────────────┤\n",
       "│ flatten_1 (<span style=\"color: #0087ff; text-decoration-color: #0087ff\">Flatten</span>)                  │ ?                           │     <span style=\"color: #00af00; text-decoration-color: #00af00\">0</span> (unbuilt) │\n",
       "├──────────────────────────────────────┼─────────────────────────────┼─────────────────┤\n",
       "│ hidden-layer (<span style=\"color: #0087ff; text-decoration-color: #0087ff\">Dense</span>)                 │ ?                           │     <span style=\"color: #00af00; text-decoration-color: #00af00\">0</span> (unbuilt) │\n",
       "├──────────────────────────────────────┼─────────────────────────────┼─────────────────┤\n",
       "│ output-layer (<span style=\"color: #0087ff; text-decoration-color: #0087ff\">Dense</span>)                 │ ?                           │     <span style=\"color: #00af00; text-decoration-color: #00af00\">0</span> (unbuilt) │\n",
       "└──────────────────────────────────────┴─────────────────────────────┴─────────────────┘\n",
       "</pre>\n"
      ],
      "text/plain": [
       "┏━━━━━━━━━━━━━━━━━━━━━━━━━━━━━━━━━━━━━━┳━━━━━━━━━━━━━━━━━━━━━━━━━━━━━┳━━━━━━━━━━━━━━━━━┓\n",
       "┃\u001b[1m \u001b[0m\u001b[1mLayer (type)                        \u001b[0m\u001b[1m \u001b[0m┃\u001b[1m \u001b[0m\u001b[1mOutput Shape               \u001b[0m\u001b[1m \u001b[0m┃\u001b[1m \u001b[0m\u001b[1m        Param #\u001b[0m\u001b[1m \u001b[0m┃\n",
       "┡━━━━━━━━━━━━━━━━━━━━━━━━━━━━━━━━━━━━━━╇━━━━━━━━━━━━━━━━━━━━━━━━━━━━━╇━━━━━━━━━━━━━━━━━┩\n",
       "│ Embedding-layer (\u001b[38;5;33mEmbedding\u001b[0m)          │ ?                           │     \u001b[38;5;34m0\u001b[0m (unbuilt) │\n",
       "├──────────────────────────────────────┼─────────────────────────────┼─────────────────┤\n",
       "│ flatten_1 (\u001b[38;5;33mFlatten\u001b[0m)                  │ ?                           │     \u001b[38;5;34m0\u001b[0m (unbuilt) │\n",
       "├──────────────────────────────────────┼─────────────────────────────┼─────────────────┤\n",
       "│ hidden-layer (\u001b[38;5;33mDense\u001b[0m)                 │ ?                           │     \u001b[38;5;34m0\u001b[0m (unbuilt) │\n",
       "├──────────────────────────────────────┼─────────────────────────────┼─────────────────┤\n",
       "│ output-layer (\u001b[38;5;33mDense\u001b[0m)                 │ ?                           │     \u001b[38;5;34m0\u001b[0m (unbuilt) │\n",
       "└──────────────────────────────────────┴─────────────────────────────┴─────────────────┘\n"
      ]
     },
     "metadata": {},
     "output_type": "display_data"
    },
    {
     "data": {
      "text/html": [
       "<pre style=\"white-space:pre;overflow-x:auto;line-height:normal;font-family:Menlo,'DejaVu Sans Mono',consolas,'Courier New',monospace\"><span style=\"font-weight: bold\"> Total params: </span><span style=\"color: #00af00; text-decoration-color: #00af00\">0</span> (0.00 B)\n",
       "</pre>\n"
      ],
      "text/plain": [
       "\u001b[1m Total params: \u001b[0m\u001b[38;5;34m0\u001b[0m (0.00 B)\n"
      ]
     },
     "metadata": {},
     "output_type": "display_data"
    },
    {
     "data": {
      "text/html": [
       "<pre style=\"white-space:pre;overflow-x:auto;line-height:normal;font-family:Menlo,'DejaVu Sans Mono',consolas,'Courier New',monospace\"><span style=\"font-weight: bold\"> Trainable params: </span><span style=\"color: #00af00; text-decoration-color: #00af00\">0</span> (0.00 B)\n",
       "</pre>\n"
      ],
      "text/plain": [
       "\u001b[1m Trainable params: \u001b[0m\u001b[38;5;34m0\u001b[0m (0.00 B)\n"
      ]
     },
     "metadata": {},
     "output_type": "display_data"
    },
    {
     "data": {
      "text/html": [
       "<pre style=\"white-space:pre;overflow-x:auto;line-height:normal;font-family:Menlo,'DejaVu Sans Mono',consolas,'Courier New',monospace\"><span style=\"font-weight: bold\"> Non-trainable params: </span><span style=\"color: #00af00; text-decoration-color: #00af00\">0</span> (0.00 B)\n",
       "</pre>\n"
      ],
      "text/plain": [
       "\u001b[1m Non-trainable params: \u001b[0m\u001b[38;5;34m0\u001b[0m (0.00 B)\n"
      ]
     },
     "metadata": {},
     "output_type": "display_data"
    },
    {
     "name": "stdout",
     "output_type": "stream",
     "text": [
      "None\n"
     ]
    }
   ],
   "source": [
    "# define model\n",
    "model = Sequential()\n",
    "model.add(Embedding(vocab_size, 50, input_length=window_size, name ='Embedding-layer'))\n",
    "model.add(Flatten())\n",
    "model.add(Dense(int(vocab_size/2), activation='relu', name='hidden-layer'))\n",
    "model.add(Dense(vocab_size, activation='softmax', name='output-layer'))\n",
    "\n",
    "# print summary of model's structure:\n",
    "print(model.summary())"
   ]
  },
  {
   "cell_type": "code",
   "execution_count": 21,
   "id": "52c101a5-8457-43c9-a0c8-c310d870eecd",
   "metadata": {},
   "outputs": [
    {
     "data": {
      "image/png": "[encoded data removed]",
      "text/plain": [
       "<Figure size 640x480 with 1 Axes>"
      ]
     },
     "metadata": {},
     "output_type": "display_data"
    },
    {
     "name": "stdout",
     "output_type": "stream",
     "text": [
      "\u001b[1m35/35\u001b[0m \u001b[32m━━━━━━━━━━━━━━━━━━━━\u001b[0m\u001b[37m\u001b[0m \u001b[1m0s\u001b[0m 6ms/step - accuracy: 0.1297 - loss: 4.2663 - val_accuracy: 0.0917 - val_loss: 5.9026\n"
     ]
    },
    {
     "data": {
      "text/plain": [
       "<keras.src.callbacks.history.History at 0x26c881ced10>"
      ]
     },
     "execution_count": 21,
     "metadata": {},
     "output_type": "execute_result"
    }
   ],
   "source": [
    "\n",
    "# define checkpoint\n",
    "checkpoint = ModelCheckpoint('model-{epoch:03d}--{val_accuracy:03f}.weights.h5', verbose=1, monitor='val_loss',save_best_only=True, \n",
    "                             save_weights_only=True, mode='min')  \n",
    "\n",
    "# compile the model\n",
    "model.compile(loss='categorical_crossentropy', optimizer='adam', metrics=['accuracy'])\n",
    "\n",
    "# train the model\n",
    "model.fit(X_train, y_train, \n",
    "          batch_size=50, \n",
    "          epochs=7, \n",
    "          validation_data=(X_validation, y_validation),\n",
    "          callbacks=[checkpoint, plot_losses])\n",
    "\n"
   ]
  },
  {
   "cell_type": "code",
   "execution_count": 22,
   "id": "ec397df2-2fd0-4a1b-828a-f859c6d5d04b",
   "metadata": {},
   "outputs": [],
   "source": [
    "# load the best model\n",
    "best_model_path = 'model-002--0.096886.weights.h5'\n",
    "model.load_weights(best_model_path)"
   ]
  },
  {
   "cell_type": "code",
   "execution_count": 24,
   "id": "f5917912-083c-4034-afc6-62fc24c1e140",
   "metadata": {},
   "outputs": [
    {
     "name": "stdout",
     "output_type": "stream",
     "text": [
      "\u001b[1m7/7\u001b[0m \u001b[32m━━━━━━━━━━━━━━━━━━━━\u001b[0m\u001b[37m\u001b[0m \u001b[1m0s\u001b[0m 6ms/step \n"
     ]
    }
   ],
   "source": [
    "# predict the class of test data\n",
    "predict_x=model.predict(X_test[0:200]) \n",
    "classes_x=np.argmax(predict_x,axis=1)"
   ]
  },
  {
   "cell_type": "code",
   "execution_count": 25,
   "id": "9d36d43d-b26c-4bea-9e2d-86d676a6503f",
   "metadata": {},
   "outputs": [],
   "source": [
    "# given the ID of word returns its corresponding word\n",
    "def convert_ID_to_word(ID):   \n",
    "  for word, index in tokenizer.word_index.items():\n",
    "    if index == ID:\n",
    "      return word\n",
    "  return \n",
    "\n",
    "# given the input sentence as an array of word Ids, returns the string of sentence\n",
    "def get_sentence_from_IDs(x):\n",
    "  sent = ''\n",
    "  for elem in x:\n",
    "    sent+= convert_ID_to_word(elem) + ' '\n",
    "  return sent"
   ]
  },
  {
   "cell_type": "code",
   "execution_count": 27,
   "id": "b63277d4-5117-48c3-9418-eed4e86de762",
   "metadata": {},
   "outputs": [],
   "source": [
    "res = classes_x"
   ]
  },
  {
   "cell_type": "code",
   "execution_count": 28,
   "id": "471da5b8-bbb7-410b-8cfb-7851d6dd0fd0",
   "metadata": {},
   "outputs": [
    {
     "name": "stdout",
     "output_type": "stream",
     "text": [
      "بدانم که این  : و\n",
      "مناطق کووید جایزۀ  : و\n",
      "از مردم مسلمان  : و\n",
      "به و تا  : و\n",
      "طرفین درگیر را  : و\n",
      "که به واژه  : و\n",
      "جریان که از  : و\n",
      "خود توجیه کنند  : و\n",
      "بیشتر را اما  : و\n",
      "توجه کنید که  : و\n",
      "که در سودان  : و\n",
      "داشته باشید به  : و\n",
      "را دنبال کنند  : و\n",
      "است که در  : و\n",
      "در سودان بر  : و\n",
      "این است که  : و\n",
      "نه و و  : و\n",
      "محلی از در  : و\n",
      "اما میزان ناشی  : و\n"
     ]
    }
   ],
   "source": [
    "arr = [0,6, 13, 14, 17, 18, 22, 35, 53, 73, 105, 112, 124, 128, 137, 145, 154, 161, 185]\n",
    "for i in arr:\n",
    "  print( get_sentence_from_IDs(X_test[i]) +' : '+convert_ID_to_word(res[i]))"
   ]
  },
  {
   "cell_type": "code",
   "execution_count": null,
   "id": "44624949-9941-4426-8204-4088b76feeca",
   "metadata": {},
   "outputs": [],
   "source": []
  }
 ],
 "metadata": {
  "kernelspec": {
   "display_name": "Python 3 (ipykernel)",
   "language": "python",
   "name": "python3"
  },
  "language_info": {
   "codemirror_mode": {
    "name": "ipython",
    "version": 3
   },
   "file_extension": ".py",
   "mimetype": "text/x-python",
   "name": "python",
   "nbconvert_exporter": "python",
   "pygments_lexer": "ipython3",
   "version": "3.11.9"
  }
 },
 "nbformat": 4,
 "nbformat_minor": 5
}
