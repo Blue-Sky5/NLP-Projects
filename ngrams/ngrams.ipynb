{
 "cells": [
  {
   "cell_type": "code",
   "execution_count": 10,
   "id": "42092b9d-9983-4aa6-a066-260038c05e24",
   "metadata": {},
   "outputs": [],
   "source": [
    "def read_file(path_to_file):\n",
    "  \n",
    "  data = []\n",
    "\n",
    "  with open(path_to_file, 'r',encoding=\"utf8\") as file:\n",
    "      for line in file:\n",
    "        tmp = line.strip() \n",
    "        tmp = tmp.replace('؟', '')\n",
    "        tmp = tmp.replace('.', '')\n",
    "        tmp = tmp.replace('!', '')\n",
    "        tmp = tmp.replace('،', '')\n",
    "        data.append(tmp)\n",
    "  \n",
    "  return data\n"
   ]
  },
  {
   "cell_type": "code",
   "execution_count": 11,
   "id": "ce2cb3d6-d944-4367-93b8-4937030f8d31",
   "metadata": {},
   "outputs": [],
   "source": [
    "sentences = read_file(\"data.txt.txt\")"
   ]
  },
  {
   "cell_type": "code",
   "execution_count": 13,
   "id": "38b0d8a3-5f78-4110-b06f-4716468c7cbe",
   "metadata": {},
   "outputs": [
    {
     "name": "stdout",
     "output_type": "stream",
     "text": [
      "اَلا یا اَیُّهَا السّاقی اَدِرْ کَأسَاً و ناوِلْها\n",
      "که عشق آسان نمود اوّل ولی افتاد مشکل‌ها\n"
     ]
    },
    {
     "data": {
      "text/plain": [
       "89"
      ]
     },
     "execution_count": 13,
     "metadata": {},
     "output_type": "execute_result"
    }
   ],
   "source": [
    "print(sentences[1])\n",
    "print(sentences[2])\n",
    "len(sentences)"
   ]
  },
  {
   "cell_type": "code",
   "execution_count": 1,
   "id": "8d0feb8d-a217-4afd-bed8-59928fff2a5c",
   "metadata": {},
   "outputs": [],
   "source": [
    "## unigram"
   ]
  },
  {
   "cell_type": "code",
   "execution_count": 14,
   "id": "26b46636-22bb-46b7-8301-df1e4ea50cab",
   "metadata": {},
   "outputs": [],
   "source": [
    "# calculate unigram probabilities for each word (w_i) and store it\n",
    "\n",
    "def calc_unigram_probs(corpus):\n",
    "  \n",
    "  word_count = {}\n",
    "  total_words = 0\n",
    "\n",
    "  for doc in corpus:\n",
    "    tmp = doc.split(' ')\n",
    "    total_words += len(tmp)\n",
    "\n",
    "    for word in tmp:\n",
    "      if (not (word in word_count)):\n",
    "        word_count[word] = 0\n",
    "      word_count[word] = word_count[word] + 1\n",
    "\n",
    "  return word_count, total_words\n"
   ]
  },
  {
   "cell_type": "code",
   "execution_count": 15,
   "id": "97f26360-d4ec-4fc1-9114-ed233e5866ae",
   "metadata": {},
   "outputs": [],
   "source": [
    "word_count, total_words = calc_unigram_probs(sentences)"
   ]
  },
  {
   "cell_type": "code",
   "execution_count": 17,
   "id": "6f9b7ca4-e2bb-4624-8c7c-067090e763b0",
   "metadata": {},
   "outputs": [
    {
     "data": {
      "text/plain": [
       "2"
      ]
     },
     "execution_count": 17,
     "metadata": {},
     "output_type": "execute_result"
    }
   ],
   "source": [
    "word_count['افتاد']"
   ]
  },
  {
   "cell_type": "code",
   "execution_count": 18,
   "id": "66efbf8b-64c7-40e5-b410-9cd701e28967",
   "metadata": {},
   "outputs": [
    {
     "data": {
      "text/plain": [
       "669"
      ]
     },
     "execution_count": 18,
     "metadata": {},
     "output_type": "execute_result"
    }
   ],
   "source": [
    "total_words"
   ]
  },
  {
   "cell_type": "code",
   "execution_count": 19,
   "id": "f6df0aba-0ad2-4841-9bc9-b831fda4dc8f",
   "metadata": {},
   "outputs": [],
   "source": [
    "def get_unigram_prob(word):\n",
    "\n",
    "  # prob =  math.log((word_count[word]/total_words)) works better if you have near zero values \n",
    "  prob = (word_count[word]/total_words)\n",
    "  return prob\n"
   ]
  },
  {
   "cell_type": "code",
   "execution_count": 20,
   "id": "fcd69aa9-40b3-47fc-bc8f-fe982f9d68d8",
   "metadata": {},
   "outputs": [],
   "source": [
    "import math \n",
    "\n",
    "# given an input sentence the unigram LM probability is calculated\n",
    "def unigram_LM(sent):\n",
    "  \n",
    "  prob = 1\n",
    "  # prob = 0 \n",
    "  tmp = sent.split(' ')\n",
    "  \n",
    "  for word in tmp:\n",
    "    prob = prob * get_unigram_prob(word)\n",
    "    # prob = prob + get_unigram_prob(word)\n",
    "\n",
    "  return prob"
   ]
  },
  {
   "cell_type": "code",
   "execution_count": 21,
   "id": "a10dc867-9851-47b9-9707-82d3d57ae9a3",
   "metadata": {},
   "outputs": [
    {
     "ename": "KeyError",
     "evalue": "'عکس'",
     "output_type": "error",
     "traceback": [
      "\u001b[1;31m---------------------------------------------------------------------------\u001b[0m",
      "\u001b[1;31mKeyError\u001b[0m                                  Traceback (most recent call last)",
      "Cell \u001b[1;32mIn[21], line 1\u001b[0m\n\u001b[1;32m----> 1\u001b[0m prob_1 \u001b[38;5;241m=\u001b[39m \u001b[43munigram_LM\u001b[49m\u001b[43m(\u001b[49m\u001b[38;5;124;43m'\u001b[39;49m\u001b[38;5;124;43mعکس هر نقشی نتابد تا ابد\u001b[39;49m\u001b[38;5;124;43m'\u001b[39;49m\u001b[43m)\u001b[49m\n",
      "Cell \u001b[1;32mIn[20], line 11\u001b[0m, in \u001b[0;36munigram_LM\u001b[1;34m(sent)\u001b[0m\n\u001b[0;32m      8\u001b[0m tmp \u001b[38;5;241m=\u001b[39m sent\u001b[38;5;241m.\u001b[39msplit(\u001b[38;5;124m'\u001b[39m\u001b[38;5;124m \u001b[39m\u001b[38;5;124m'\u001b[39m)\n\u001b[0;32m     10\u001b[0m \u001b[38;5;28;01mfor\u001b[39;00m word \u001b[38;5;129;01min\u001b[39;00m tmp:\n\u001b[1;32m---> 11\u001b[0m   prob \u001b[38;5;241m=\u001b[39m prob \u001b[38;5;241m*\u001b[39m \u001b[43mget_unigram_prob\u001b[49m\u001b[43m(\u001b[49m\u001b[43mword\u001b[49m\u001b[43m)\u001b[49m\n\u001b[0;32m     12\u001b[0m   \u001b[38;5;66;03m# prob = prob + get_unigram_prob(word)\u001b[39;00m\n\u001b[0;32m     14\u001b[0m \u001b[38;5;28;01mreturn\u001b[39;00m prob\n",
      "Cell \u001b[1;32mIn[19], line 4\u001b[0m, in \u001b[0;36mget_unigram_prob\u001b[1;34m(word)\u001b[0m\n\u001b[0;32m      1\u001b[0m \u001b[38;5;28;01mdef\u001b[39;00m \u001b[38;5;21mget_unigram_prob\u001b[39m(word):\n\u001b[0;32m      2\u001b[0m \n\u001b[0;32m      3\u001b[0m   \u001b[38;5;66;03m# prob =  math.log((word_count[word]/total_words)) works better if you have near zero values \u001b[39;00m\n\u001b[1;32m----> 4\u001b[0m   prob \u001b[38;5;241m=\u001b[39m (\u001b[43mword_count\u001b[49m\u001b[43m[\u001b[49m\u001b[43mword\u001b[49m\u001b[43m]\u001b[49m\u001b[38;5;241m/\u001b[39mtotal_words)\n\u001b[0;32m      5\u001b[0m   \u001b[38;5;28;01mreturn\u001b[39;00m prob\n",
      "\u001b[1;31mKeyError\u001b[0m: 'عکس'"
     ]
    }
   ],
   "source": [
    "prob_1 = unigram_LM('عکس هر نقشی نتابد تا ابد')"
   ]
  },
  {
   "cell_type": "code",
   "execution_count": 22,
   "id": "0826bbdc-59da-44ff-9b5b-0f5cc3acc717",
   "metadata": {},
   "outputs": [],
   "source": [
    "prob_2 = unigram_LM('چنان بردند صبر از دل که تُرکان خوانِ یَغما را')"
   ]
  },
  {
   "cell_type": "code",
   "execution_count": 23,
   "id": "20e1be8d-093c-4d40-b60e-d0d65f1f0964",
   "metadata": {},
   "outputs": [],
   "source": [
    "## bigram"
   ]
  },
  {
   "cell_type": "code",
   "execution_count": 24,
   "id": "7ee4c4b0-6ec2-48a0-bbc7-65a620cabb07",
   "metadata": {},
   "outputs": [],
   "source": [
    "# Bigrams are extracted from input corpus\n",
    "\n",
    "def collect_bigrams(corpus):\n",
    "  \n",
    "  word_bigrams = {}\n",
    "  \n",
    "  for doc in corpus:\n",
    "    tmp = doc.split(' ')\n",
    "\n",
    "    for i in range(1, len(tmp)):\n",
    "      word = tmp[i]\n",
    "      prev_word = tmp[i-1]\n",
    "      \n",
    "      if not (word in word_bigrams):\n",
    "        word_bigrams[word] = []\n",
    "\n",
    "      word_bigrams[word].append(prev_word)\n",
    "\n",
    "  return word_bigrams\n"
   ]
  },
  {
   "cell_type": "code",
   "execution_count": 25,
   "id": "1fda953f-ad3f-491c-a9ed-0038e249b28c",
   "metadata": {},
   "outputs": [],
   "source": [
    "word_bigrams = collect_bigrams(sentences)"
   ]
  },
  {
   "cell_type": "code",
   "execution_count": 26,
   "id": "507d2d38-1ef3-497c-8197-57dd8f7c04b2",
   "metadata": {},
   "outputs": [],
   "source": [
    "# The bigram LM probability of the given bigram is calculated\n",
    "\n",
    "def get_bigram_prob(word, prev_word):\n",
    "  \n",
    "  bigrams = word_bigrams[word]\n",
    "  count = 0\n",
    "  \n",
    "  for elem in bigrams:\n",
    "    if elem == prev_word:\n",
    "      count += 1\n",
    "\n",
    "  N = word_count[prev_word]\n",
    "  prob = count / N\n",
    "\n",
    "  return prob"
   ]
  },
  {
   "cell_type": "code",
   "execution_count": 30,
   "id": "d5bfba55-cf1e-44a0-a6de-9687406ae935",
   "metadata": {},
   "outputs": [
    {
     "data": {
      "text/plain": [
       "1.0"
      ]
     },
     "execution_count": 30,
     "metadata": {},
     "output_type": "execute_result"
    }
   ],
   "source": [
    "get_bigram_prob('افتاد', 'ولی')"
   ]
  },
  {
   "cell_type": "code",
   "execution_count": 31,
   "id": "5343213c-fa25-4766-a937-b4622d1e7d9e",
   "metadata": {},
   "outputs": [],
   "source": [
    "# The bigram LM probability of the input sentence is calculated\n",
    "\n",
    "def bigram_LM(sent):\n",
    "  \n",
    "  prob = 1\n",
    "  tmp = sent.split(' ')\n",
    "  prob = prob * (word_count[tmp[0]]/total_words)\n",
    "\n",
    "  for i in range(1, len(tmp)):\n",
    "    prob = prob * get_bigram_prob(tmp[i], tmp[i-1])\n",
    "\n",
    "  return prob\n"
   ]
  },
  {
   "cell_type": "code",
   "execution_count": 33,
   "id": "c343cfd2-a6d1-495e-89af-5f59b0540765",
   "metadata": {},
   "outputs": [],
   "source": [
    "prob_1 = bigram_LM(\"به آب و رنگ و خال و خط چه حاجت رویِ زیبا\")"
   ]
  },
  {
   "cell_type": "code",
   "execution_count": 34,
   "id": "f7dc8df7-92ba-4c8d-b74d-705519f0b7e3",
   "metadata": {},
   "outputs": [],
   "source": [
    "prob_2 = bigram_LM('به آب و رنگ و خط و خال چه حاجت رویِ زیبا')"
   ]
  },
  {
   "cell_type": "code",
   "execution_count": 35,
   "id": "6b23557a-8aff-49d2-a955-9957e1622529",
   "metadata": {},
   "outputs": [
    {
     "name": "stdout",
     "output_type": "stream",
     "text": [
      "prob 1\n"
     ]
    }
   ],
   "source": [
    "if prob_1> prob_2:\n",
    "  print('prob 1')\n",
    "else:\n",
    "  print('prob 2')"
   ]
  },
  {
   "cell_type": "code",
   "execution_count": null,
   "id": "2cf01fcc-46d5-48c6-88d4-c001d6d2733a",
   "metadata": {},
   "outputs": [],
   "source": []
  }
 ],
 "metadata": {
  "kernelspec": {
   "display_name": "Python 3 (ipykernel)",
   "language": "python",
   "name": "python3"
  },
  "language_info": {
   "codemirror_mode": {
    "name": "ipython",
    "version": 3
   },
   "file_extension": ".py",
   "mimetype": "text/x-python",
   "name": "python",
   "nbconvert_exporter": "python",
   "pygments_lexer": "ipython3",
   "version": "3.11.9"
  }
 },
 "nbformat": 4,
 "nbformat_minor": 5
}
