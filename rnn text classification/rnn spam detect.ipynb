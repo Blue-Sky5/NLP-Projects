{
 "cells": [
  {
   "cell_type": "code",
   "execution_count": 1,
   "id": "b6501a45-b69b-4cdc-9ea8-905cb4ec8754",
   "metadata": {},
   "outputs": [],
   "source": [
    "labels = []\n",
    "docs = []\n",
    "\n",
    "with open('dataset.txt', 'r') as f:\n",
    "  temp = \"\"\n",
    "  for line in f:\n",
    "      if len(line) < 2 :\n",
    "          continue\n",
    "      if line.startswith(\"Cat\"):\n",
    "          if len(labels) != 0:\n",
    "              docs.append(temp)\n",
    "              temp = \"\"\n",
    "          labels.append(line.split()[1])\n",
    "      else:\n",
    "          temp += line\n",
    "  docs.append(temp)"
   ]
  },
  {
   "cell_type": "code",
   "execution_count": 2,
   "id": "186b87cb-4337-4f4d-a0b6-717cfd30ef1c",
   "metadata": {},
   "outputs": [
    {
     "name": "stdout",
     "output_type": "stream",
     "text": [
      "Spam\n",
      "---\n",
      "No prescription needed! Get free Viagra pills delivered to your door. Limited time offer.\n",
      "\n"
     ]
    }
   ],
   "source": [
    "print(labels[2])\n",
    "print(\"---\")\n",
    "print(docs[2])"
   ]
  },
  {
   "cell_type": "code",
   "execution_count": 3,
   "id": "2e92c957-d622-4d34-8ecd-c90cd40f5bef",
   "metadata": {},
   "outputs": [],
   "source": [
    "int_label = [1,0]"
   ]
  },
  {
   "cell_type": "code",
   "execution_count": 4,
   "id": "5489e22c-2860-47b7-86f8-c7da11d2e760",
   "metadata": {},
   "outputs": [],
   "source": [
    "def clean(data):\n",
    "\n",
    "  tokens = data.split()\n",
    "  translation_table = str.maketrans('', '', \"\\\"#$%&'()*+,-/:;<=>?@[\\]^_`{|}~،؟!❊#$٪^&*)(ـ+=-؛:❊{}.\")\n",
    "  tokens = [w.translate(translation_table) for w in tokens]\n",
    "  # tokens = [word.lower() for word in tokens] \n",
    "  return ' '.join(tokens)\n"
   ]
  },
  {
   "cell_type": "code",
   "execution_count": 5,
   "id": "48dbdac5-29ce-4523-8171-3dcd8cf8f9cd",
   "metadata": {},
   "outputs": [],
   "source": [
    "num_classes = 2\n",
    "docs = [clean(doc) for doc in docs]"
   ]
  },
  {
   "cell_type": "code",
   "execution_count": 13,
   "id": "56e42025-0e39-429f-9471-faf001e8a787",
   "metadata": {},
   "outputs": [],
   "source": [
    "new_labels=[]\n",
    "for i in labels:\n",
    "    if i == \"Spam\":\n",
    "        new_labels.append(1)\n",
    "    else:\n",
    "        new_labels.append(0)\n"
   ]
  },
  {
   "cell_type": "code",
   "execution_count": 15,
   "id": "01d99f30-7024-434a-8341-67f140a69573",
   "metadata": {},
   "outputs": [],
   "source": [
    "labels = new_labels"
   ]
  },
  {
   "cell_type": "code",
   "execution_count": 10,
   "id": "a5202d20-292e-4403-9803-2e629f24c660",
   "metadata": {},
   "outputs": [],
   "source": [
    "# imports \n",
    "import numpy as np\n",
    "from tensorflow.keras.utils import to_categorical\n",
    "from sklearn.model_selection import train_test_split\n",
    "from tensorflow.keras.preprocessing.text import Tokenizer\n",
    "from keras.preprocessing.sequence import pad_sequences\n",
    "from tensorflow.keras.models import Sequential\n",
    "from tensorflow.keras.layers import Dense, Bidirectional, LSTM, GRU, Embedding\n",
    "from tensorflow.keras.callbacks import ModelCheckpoint\n",
    "import matplotlib.pyplot as plt\n",
    "from keras.models import load_model\n"
   ]
  },
  {
   "cell_type": "code",
   "execution_count": 16,
   "id": "bb91b1b6-e5df-4fcb-9210-a5d47bf1e75d",
   "metadata": {},
   "outputs": [
    {
     "data": {
      "text/plain": [
       "0"
      ]
     },
     "execution_count": 16,
     "metadata": {},
     "output_type": "execute_result"
    }
   ],
   "source": [
    "labels[1]"
   ]
  },
  {
   "cell_type": "code",
   "execution_count": 17,
   "id": "6164cdf5-575e-443e-819b-1e0bac4c558e",
   "metadata": {},
   "outputs": [],
   "source": [
    "labels= to_categorical(labels, num_classes=num_classes)"
   ]
  },
  {
   "cell_type": "code",
   "execution_count": 24,
   "id": "2b75f44e-32af-4976-b8ad-b7b9048fa9d9",
   "metadata": {},
   "outputs": [],
   "source": [
    "sentences_train, sentences_test, y_train, y_test = train_test_split(\n",
    "   docs, labels, test_size=0.20, random_state=1000)\n",
    "\n",
    "sentences_test, sentences_valid, y_test, y_valid = train_test_split(\n",
    "   sentences_test, y_test, test_size=0.5, random_state=1000)"
   ]
  },
  {
   "cell_type": "code",
   "execution_count": 25,
   "id": "cfc8e0a3-b478-4cf8-a211-5b41eb227c1b",
   "metadata": {},
   "outputs": [],
   "source": [
    "maxlen = 50"
   ]
  },
  {
   "cell_type": "code",
   "execution_count": 26,
   "id": "f964ac15-4de5-44a2-a871-864fbeaced08",
   "metadata": {},
   "outputs": [],
   "source": [
    "\n",
    "tokenizer = Tokenizer()\n",
    "tokenizer.fit_on_texts(docs)\n",
    "\n",
    "X_train = tokenizer.texts_to_sequences(sentences_train)\n",
    "X_test = tokenizer.texts_to_sequences(sentences_test)\n",
    "X_val = tokenizer.texts_to_sequences(sentences_valid)\n",
    "\n",
    "vocab_size = len(tokenizer.word_index) + 1 "
   ]
  },
  {
   "cell_type": "code",
   "execution_count": 27,
   "id": "49c8a977-4b1c-444b-af3d-4dd50cda1e25",
   "metadata": {},
   "outputs": [],
   "source": [
    "\n",
    "X_train = pad_sequences(X_train, padding='post', maxlen=maxlen)\n",
    "X_test = pad_sequences(X_test, padding='post', maxlen=maxlen)\n",
    "X_val = pad_sequences(X_val, padding='post', maxlen=maxlen)\n"
   ]
  },
  {
   "cell_type": "code",
   "execution_count": null,
   "id": "495e1a0d-e846-4577-9ed3-1bfaa7f5a384",
   "metadata": {},
   "outputs": [],
   "source": [
    "\n",
    "embedding_dim = 50\n",
    "\n",
    "model = Sequential()\n",
    "model.add(Embedding(input_dim=vocab_size, \n",
    "                           output_dim=embedding_dim, \n",
    "                           input_length=maxlen,\n",
    "                           trainable=True))\n",
    "\n",
    "model.add(Bidirectional(GRU(150, dropout=0.2,  return_sequences=True)))\n",
    "model.add(Bidirectional(GRU(100, dropout=0.2,  return_sequences=True)))\n",
    "model.add(Bidirectional(GRU(50, dropout=0.2,)))\n",
    "model.add(Dense(50, activation='relu'))\n",
    "model.add(Dense(num_classes, activation='softmax'))\n",
    "\n",
    "model.compile(optimizer='adam',\n",
    "              loss='categorical_crossentropy',\n",
    "              metrics=['accuracy'])\n",
    "model.summary()"
   ]
  },
  {
   "cell_type": "code",
   "execution_count": 30,
   "id": "4c322040-22c2-4352-94a3-4f72587d96b3",
   "metadata": {},
   "outputs": [],
   "source": [
    "\n",
    "checkpoint_path = 'model-{epoch:03d}-{val_accuracy:03f}.keras'\n",
    "\n",
    "cp_callback = ModelCheckpoint(\n",
    "    filepath=checkpoint_path, \n",
    "    monitor = 'val_accuracy',\n",
    "    mode = 'max',\n",
    "    save_best_only=True)"
   ]
  },
  {
   "cell_type": "code",
   "execution_count": 35,
   "id": "b283a11c-f6f3-4297-a614-1215b23a8a51",
   "metadata": {},
   "outputs": [
    {
     "name": "stdout",
     "output_type": "stream",
     "text": [
      "You must install pydot (`pip install pydot`) for `plot_model` to work.\n"
     ]
    }
   ],
   "source": [
    "import tensorflow as tf\n",
    "\n",
    "tf.keras.utils.plot_model(model, to_file='model.png', show_shapes=True)"
   ]
  },
  {
   "cell_type": "code",
   "execution_count": 33,
   "id": "4c63b95d-a4eb-4cbf-82a8-11ba5ec89deb",
   "metadata": {},
   "outputs": [
    {
     "name": "stdout",
     "output_type": "stream",
     "text": [
      "Epoch 1/20\n",
      "\u001b[1m1/1\u001b[0m \u001b[32m━━━━━━━━━━━━━━━━━━━━\u001b[0m\u001b[37m\u001b[0m \u001b[1m23s\u001b[0m 23s/step - accuracy: 0.5714 - loss: 0.6929 - val_accuracy: 0.0000e+00 - val_loss: 0.7700\n",
      "Epoch 2/20\n",
      "\u001b[1m1/1\u001b[0m \u001b[32m━━━━━━━━━━━━━━━━━━━━\u001b[0m\u001b[37m\u001b[0m \u001b[1m0s\u001b[0m 212ms/step - accuracy: 0.6429 - loss: 0.6726 - val_accuracy: 0.0000e+00 - val_loss: 0.8561\n",
      "Epoch 3/20\n",
      "\u001b[1m1/1\u001b[0m \u001b[32m━━━━━━━━━━━━━━━━━━━━\u001b[0m\u001b[37m\u001b[0m \u001b[1m0s\u001b[0m 201ms/step - accuracy: 0.6429 - loss: 0.6524 - val_accuracy: 0.0000e+00 - val_loss: 0.9627\n",
      "Epoch 4/20\n",
      "\u001b[1m1/1\u001b[0m \u001b[32m━━━━━━━━━━━━━━━━━━━━\u001b[0m\u001b[37m\u001b[0m \u001b[1m0s\u001b[0m 209ms/step - accuracy: 0.6429 - loss: 0.6391 - val_accuracy: 0.0000e+00 - val_loss: 1.0831\n",
      "Epoch 5/20\n",
      "\u001b[1m1/1\u001b[0m \u001b[32m━━━━━━━━━━━━━━━━━━━━\u001b[0m\u001b[37m\u001b[0m \u001b[1m0s\u001b[0m 215ms/step - accuracy: 0.6429 - loss: 0.6370 - val_accuracy: 0.0000e+00 - val_loss: 1.1811\n",
      "Epoch 6/20\n",
      "\u001b[1m1/1\u001b[0m \u001b[32m━━━━━━━━━━━━━━━━━━━━\u001b[0m\u001b[37m\u001b[0m \u001b[1m0s\u001b[0m 218ms/step - accuracy: 0.6429 - loss: 0.6397 - val_accuracy: 0.0000e+00 - val_loss: 1.2178\n",
      "Epoch 7/20\n",
      "\u001b[1m1/1\u001b[0m \u001b[32m━━━━━━━━━━━━━━━━━━━━\u001b[0m\u001b[37m\u001b[0m \u001b[1m0s\u001b[0m 201ms/step - accuracy: 0.6429 - loss: 0.6367 - val_accuracy: 0.0000e+00 - val_loss: 1.1926\n",
      "Epoch 8/20\n",
      "\u001b[1m1/1\u001b[0m \u001b[32m━━━━━━━━━━━━━━━━━━━━\u001b[0m\u001b[37m\u001b[0m \u001b[1m0s\u001b[0m 213ms/step - accuracy: 0.6429 - loss: 0.6146 - val_accuracy: 0.0000e+00 - val_loss: 1.1246\n",
      "Epoch 9/20\n",
      "\u001b[1m1/1\u001b[0m \u001b[32m━━━━━━━━━━━━━━━━━━━━\u001b[0m\u001b[37m\u001b[0m \u001b[1m0s\u001b[0m 204ms/step - accuracy: 0.6429 - loss: 0.5980 - val_accuracy: 0.0000e+00 - val_loss: 1.0367\n",
      "Epoch 10/20\n",
      "\u001b[1m1/1\u001b[0m \u001b[32m━━━━━━━━━━━━━━━━━━━━\u001b[0m\u001b[37m\u001b[0m \u001b[1m0s\u001b[0m 213ms/step - accuracy: 0.6429 - loss: 0.5822 - val_accuracy: 0.0000e+00 - val_loss: 0.9399\n",
      "Epoch 11/20\n",
      "\u001b[1m1/1\u001b[0m \u001b[32m━━━━━━━━━━━━━━━━━━━━\u001b[0m\u001b[37m\u001b[0m \u001b[1m0s\u001b[0m 200ms/step - accuracy: 0.6429 - loss: 0.5496 - val_accuracy: 0.0000e+00 - val_loss: 0.8533\n",
      "Epoch 12/20\n",
      "\u001b[1m1/1\u001b[0m \u001b[32m━━━━━━━━━━━━━━━━━━━━\u001b[0m\u001b[37m\u001b[0m \u001b[1m0s\u001b[0m 235ms/step - accuracy: 0.7143 - loss: 0.5059 - val_accuracy: 0.0000e+00 - val_loss: 0.8036\n",
      "Epoch 13/20\n",
      "\u001b[1m1/1\u001b[0m \u001b[32m━━━━━━━━━━━━━━━━━━━━\u001b[0m\u001b[37m\u001b[0m \u001b[1m0s\u001b[0m 364ms/step - accuracy: 0.7857 - loss: 0.4690 - val_accuracy: 0.5000 - val_loss: 0.7889\n",
      "Epoch 14/20\n",
      "\u001b[1m1/1\u001b[0m \u001b[32m━━━━━━━━━━━━━━━━━━━━\u001b[0m\u001b[37m\u001b[0m \u001b[1m0s\u001b[0m 228ms/step - accuracy: 0.9286 - loss: 0.3936 - val_accuracy: 0.5000 - val_loss: 0.8014\n",
      "Epoch 15/20\n",
      "\u001b[1m1/1\u001b[0m \u001b[32m━━━━━━━━━━━━━━━━━━━━\u001b[0m\u001b[37m\u001b[0m \u001b[1m0s\u001b[0m 214ms/step - accuracy: 0.9286 - loss: 0.3209 - val_accuracy: 0.5000 - val_loss: 0.8194\n",
      "Epoch 16/20\n",
      "\u001b[1m1/1\u001b[0m \u001b[32m━━━━━━━━━━━━━━━━━━━━\u001b[0m\u001b[37m\u001b[0m \u001b[1m0s\u001b[0m 243ms/step - accuracy: 1.0000 - loss: 0.2394 - val_accuracy: 0.5000 - val_loss: 0.8299\n",
      "Epoch 17/20\n",
      "\u001b[1m1/1\u001b[0m \u001b[32m━━━━━━━━━━━━━━━━━━━━\u001b[0m\u001b[37m\u001b[0m \u001b[1m0s\u001b[0m 220ms/step - accuracy: 1.0000 - loss: 0.1815 - val_accuracy: 0.5000 - val_loss: 0.7455\n",
      "Epoch 18/20\n",
      "\u001b[1m1/1\u001b[0m \u001b[32m━━━━━━━━━━━━━━━━━━━━\u001b[0m\u001b[37m\u001b[0m \u001b[1m0s\u001b[0m 375ms/step - accuracy: 1.0000 - loss: 0.1216 - val_accuracy: 1.0000 - val_loss: 0.4664\n",
      "Epoch 19/20\n",
      "\u001b[1m1/1\u001b[0m \u001b[32m━━━━━━━━━━━━━━━━━━━━\u001b[0m\u001b[37m\u001b[0m \u001b[1m0s\u001b[0m 206ms/step - accuracy: 1.0000 - loss: 0.0745 - val_accuracy: 1.0000 - val_loss: 0.2133\n",
      "Epoch 20/20\n",
      "\u001b[1m1/1\u001b[0m \u001b[32m━━━━━━━━━━━━━━━━━━━━\u001b[0m\u001b[37m\u001b[0m \u001b[1m0s\u001b[0m 208ms/step - accuracy: 1.0000 - loss: 0.0324 - val_accuracy: 1.0000 - val_loss: 0.0693\n"
     ]
    }
   ],
   "source": [
    "history = model.fit(X_train, y_train,\n",
    "                    epochs=20,\n",
    "                    validation_data=(X_val, y_valid),\n",
    "                    batch_size=100,\n",
    "                    callbacks=[cp_callback])"
   ]
  },
  {
   "cell_type": "code",
   "execution_count": 34,
   "id": "fc670b12-f4e2-4c7e-82a4-b42c190a4540",
   "metadata": {},
   "outputs": [],
   "source": [
    "plt.style.use('ggplot')\n",
    "\n",
    "def plot_history(history):\n",
    "    acc = history.history['accuracy']\n",
    "    val_acc = history.history['val_accuracy']\n",
    "    loss = history.history['loss']\n",
    "    val_loss = history.history['val_loss']\n",
    "    x = range(1, len(acc) + 1)\n",
    "\n",
    "    plt.figure(figsize=(12, 5))\n",
    "    plt.subplot(1, 2, 1)\n",
    "    plt.plot(x, acc, 'b', label='Training acc')\n",
    "    plt.plot(x, val_acc, 'r', label='Validation acc')\n",
    "    plt.title('Training and validation accuracy')\n",
    "    plt.legend()\n",
    "    plt.subplot(1, 2, 2)\n",
    "    plt.plot(x, loss, 'b', label='Training loss')\n",
    "    plt.plot(x, val_loss, 'r', label='Validation loss')\n",
    "    plt.title('Training and validation loss')\n",
    "    plt.legend()"
   ]
  },
  {
   "cell_type": "code",
   "execution_count": 36,
   "id": "278243ea-daaf-4d59-bf66-229c6099459c",
   "metadata": {},
   "outputs": [
    {
     "data": {
      "image/png": "[encoded data removed]",
      "text/plain": [
       "<Figure size 1200x500 with 2 Axes>"
      ]
     },
     "metadata": {},
     "output_type": "display_data"
    }
   ],
   "source": [
    "plot_history(history)"
   ]
  },
  {
   "cell_type": "code",
   "execution_count": 38,
   "id": "8cc74ee3-9133-469f-a533-3d1a2f50010a",
   "metadata": {},
   "outputs": [],
   "source": [
    "model = load_model('model-018-1.000000.keras')"
   ]
  },
  {
   "cell_type": "code",
   "execution_count": 39,
   "id": "6dd1b0d3-e5d3-4f79-8046-9b9201d26830",
   "metadata": {},
   "outputs": [],
   "source": [
    "preds = model.evaluate(X_test, y_test, verbose=0)"
   ]
  },
  {
   "cell_type": "code",
   "execution_count": 40,
   "id": "f9bf8ffb-7f7e-4143-a8c3-e72a6599fa2c",
   "metadata": {},
   "outputs": [
    {
     "data": {
      "text/plain": [
       "[0.22561627626419067, 1.0]"
      ]
     },
     "execution_count": 40,
     "metadata": {},
     "output_type": "execute_result"
    }
   ],
   "source": [
    "preds"
   ]
  },
  {
   "cell_type": "markdown",
   "id": "46aa0616-4134-452c-90d2-fb91821f02f1",
   "metadata": {},
   "source": [
    "## testing with one sample spam message "
   ]
  },
  {
   "cell_type": "code",
   "execution_count": 47,
   "id": "f59da15a-2a1c-4164-9d7f-6e02b920a48c",
   "metadata": {},
   "outputs": [],
   "source": [
    "tests = [\"hey i was looking for you today call me when you where free\",\n",
    "         \"Congratulations! You've been selected as a lucky winner of our exclusive offer. Click here to reveal your surprise gift\"]\n",
    "tests = [clean(test) for test in tests]"
   ]
  },
  {
   "cell_type": "code",
   "execution_count": 48,
   "id": "9d8c4941-4a5b-438f-824a-4aaccf71e327",
   "metadata": {},
   "outputs": [],
   "source": [
    "test_x = tokenizer.texts_to_sequences(tests)"
   ]
  },
  {
   "cell_type": "code",
   "execution_count": 49,
   "id": "5be517ff-5ef9-489e-8bcb-31112dcfb7e7",
   "metadata": {},
   "outputs": [],
   "source": [
    "test_x = pad_sequences(test_x, padding='post', maxlen=maxlen)"
   ]
  },
  {
   "cell_type": "code",
   "execution_count": 50,
   "id": "382670a9-4c39-40d2-b000-96f164f79970",
   "metadata": {},
   "outputs": [
    {
     "name": "stdout",
     "output_type": "stream",
     "text": [
      "\u001b[1m1/1\u001b[0m \u001b[32m━━━━━━━━━━━━━━━━━━━━\u001b[0m\u001b[37m\u001b[0m \u001b[1m2s\u001b[0m 2s/step\n"
     ]
    }
   ],
   "source": [
    "pred_test = model.predict(test_x)"
   ]
  },
  {
   "cell_type": "code",
   "execution_count": 51,
   "id": "4c30eb11-e4df-4f6c-a68a-247174cb2dad",
   "metadata": {},
   "outputs": [
    {
     "name": "stdout",
     "output_type": "stream",
     "text": [
      "[0.99306434 0.00693563]\n",
      "[0.15531078 0.84468925]\n"
     ]
    }
   ],
   "source": [
    "for i in pred_test:\n",
    "    print(i)"
   ]
  },
  {
   "cell_type": "code",
   "execution_count": null,
   "id": "950b0bc5-48e0-4bde-9f7b-e1b7905449e8",
   "metadata": {},
   "outputs": [],
   "source": []
  }
 ],
 "metadata": {
  "kernelspec": {
   "display_name": "Python 3 (ipykernel)",
   "language": "python",
   "name": "python3"
  },
  "language_info": {
   "codemirror_mode": {
    "name": "ipython",
    "version": 3
   },
   "file_extension": ".py",
   "mimetype": "text/x-python",
   "name": "python",
   "nbconvert_exporter": "python",
   "pygments_lexer": "ipython3",
   "version": "3.11.9"
  }
 },
 "nbformat": 4,
 "nbformat_minor": 5
}
